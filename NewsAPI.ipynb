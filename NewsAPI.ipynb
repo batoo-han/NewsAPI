{
  "nbformat": 4,
  "nbformat_minor": 0,
  "metadata": {
    "colab": {
      "provenance": [],
      "authorship_tag": "ABX9TyNU7JFbkMeGn840+yhPrZkc",
      "include_colab_link": true
    },
    "kernelspec": {
      "name": "python3",
      "display_name": "Python 3"
    },
    "language_info": {
      "name": "python"
    }
  },
  "cells": [
    {
      "cell_type": "markdown",
      "metadata": {
        "id": "view-in-github",
        "colab_type": "text"
      },
      "source": [
        "<a href=\"https://colab.research.google.com/github/batoo-han/NewsAPI/blob/main/NewsAPI.ipynb\" target=\"_parent\"><img src=\"https://colab.research.google.com/assets/colab-badge.svg\" alt=\"Open In Colab\"/></a>"
      ]
    },
    {
      "cell_type": "code",
      "execution_count": null,
      "metadata": {
        "id": "Jiv029espIY0"
      },
      "outputs": [],
      "source": [
        "import requests\n",
        "\n",
        "def get_news():\n",
        "    # Запрашиваем у пользователя тему для поиска новостей\n",
        "    topic = input(\"Введите тему, по которой хотите найти новости: \").strip()\n",
        "\n",
        "    # API ключ и URL для запроса\n",
        "    api_key = \"newsapi_key\"  # Замените на ваш реальный API ключ\n",
        "    url = \"https://newsapi.org/v2/everything\"\n",
        "\n",
        "    # Параметры запроса\n",
        "    params = {\n",
        "        'q': topic,\n",
        "        'apiKey': api_key,\n",
        "        'language': 'ru',  # Можно изменить на предпочитаемый язык\n",
        "        'pageSize': 5       # Ограничиваем количество результатов до 5\n",
        "    }\n",
        "\n",
        "    try:\n",
        "        # Отправляем GET-запрос к News API\n",
        "        response = requests.get(url, params=params)\n",
        "        response.raise_for_status()  # Проверяем, не вернулась ли ошибка HTTP\n",
        "\n",
        "        # Преобразуем ответ в JSON\n",
        "        data = response.json()\n",
        "\n",
        "        # Проверяем, есть ли новости в ответе\n",
        "        if data['totalResults'] > 0:\n",
        "            print(f\"\\nНайдено {data['totalResults']} новостей по теме '{topic}'. Вот первые 5:\")\n",
        "            for index, article in enumerate(data['articles'][:5], 1):\n",
        "                print(f\"\\n{index}. {article['title']}\")\n",
        "                print(f\"   Описание: {article.get('description', 'Нет описания')}\")\n",
        "                print(f\"   Ссылка: {article['url']}\")\n",
        "        else:\n",
        "            print(f\"\\nПо теме '{topic}' новостей не найдено.\")\n",
        "\n",
        "    except requests.exceptions.RequestException as e:\n",
        "        print(f\"\\nПроизошла ошибка при подключении к News API: {e}\")\n",
        "    except KeyError:\n",
        "        print(\"\\nОшибка в обработке данных. Возможно, неверный API ключ или проблема с сервисом.\")\n",
        "    except Exception as e:\n",
        "        print(f\"\\nПроизошла непредвиденная ошибка: {e}\")\n",
        "\n",
        "# Запускаем функцию\n",
        "if __name__ == \"__main__\":\n",
        "    get_news()"
      ]
    }
  ]
}